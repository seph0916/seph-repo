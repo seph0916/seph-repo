{
  "nbformat": 4,
  "nbformat_minor": 0,
  "metadata": {
    "colab": {
      "provenance": [],
      "authorship_tag": "ABX9TyNNY9gWkyV2AW6iAW3ZK71q",
      "include_colab_link": true
    },
    "kernelspec": {
      "name": "python3",
      "display_name": "Python 3"
    },
    "language_info": {
      "name": "python"
    }
  },
  "cells": [
    {
      "cell_type": "markdown",
      "metadata": {
        "id": "view-in-github",
        "colab_type": "text"
      },
      "source": [
        "<a href=\"https://colab.research.google.com/github/seph0916/seph-solo-machine/blob/main/%ED%98%BC%EA%B3%B5%EB%A8%B8%EC%8B%A05%EB%8B%A8%EC%9B%90_2.ipynb\" target=\"_parent\"><img src=\"https://colab.research.google.com/assets/colab-badge.svg\" alt=\"Open In Colab\"/></a>"
      ]
    },
    {
      "cell_type": "code",
      "execution_count": 1,
      "metadata": {
        "id": "NimGBHMVuALg"
      },
      "outputs": [],
      "source": [
        "# 교차 검증과 그리드 서치\n",
        "# 테스트 세트에 맞는 모델을 만드는것이 아닌 일반적일때 잘 예측할수 있는 모델을 만들고싶음.\n",
        "# 테스트 세트를 사용하지 않으면 모델이 과대,과소 적합인지 판단하기 어려움\n",
        "# 테스트 세트를 사용하지 않고 측정하는 방법은 훈련세트를 또 나누는것-> 검증세트"
      ]
    },
    {
      "cell_type": "code",
      "source": [
        "# 와인 데이터 읽기\n",
        "import pandas as pd\n",
        "wine= pd.read_csv('https://bit.ly/wine-date')"
      ],
      "metadata": {
        "id": "lcROMs_f1z15"
      },
      "execution_count": 3,
      "outputs": []
    },
    {
      "cell_type": "code",
      "source": [
        "# input data ,target data 나누기\n",
        "data=wine[['alcohol','sugar','pH']].to_numpy()\n",
        "target=wine['class'].to_numpy()"
      ],
      "metadata": {
        "id": "BBIAg78O2W-9"
      },
      "execution_count": 4,
      "outputs": []
    },
    {
      "cell_type": "code",
      "source": [
        "from sklearn.model_selection import train_test_split\n",
        "train_input,test_input,train_target,test_target=train_test_split(data,target,test_size=0.2,random_state=42)"
      ],
      "metadata": {
        "id": "99rg_hDC237o"
      },
      "execution_count": 5,
      "outputs": []
    },
    {
      "cell_type": "code",
      "source": [
        "# train data를 이용하여 또다시 훈련세트와 검증세트로 나눔\n",
        "sub_input,val_input,sub_target,val_target=train_test_split(train_input,train_target,test_size=0.2,random_state=42)"
      ],
      "metadata": {
        "id": "GULTVzBd3F9K"
      },
      "execution_count": 7,
      "outputs": []
    },
    {
      "cell_type": "code",
      "source": [
        "print(wine.shape,sub_input.shape,val_input.shape)"
      ],
      "metadata": {
        "colab": {
          "base_uri": "https://localhost:8080/"
        },
        "id": "jH7aBrPX4ME6",
        "outputId": "afd7bc48-329a-41f7-b895-2347382deb36"
      },
      "execution_count": 9,
      "outputs": [
        {
          "output_type": "stream",
          "name": "stdout",
          "text": [
            "(6497, 4) (4157, 3) (1040, 3)\n"
          ]
        }
      ]
    },
    {
      "cell_type": "code",
      "source": [
        "# train data중 80퍼센트(80퍼 중에 80퍼)에 해당하는 데이터를 통해 모델을 만들고 확인해보기\n",
        "from sklearn.tree import DecisionTreeClassifier\n",
        "dt=DecisionTreeClassifier(random_state=42)\n",
        "dt.fit(sub_input,sub_target)\n",
        "print(dt.score(sub_input,sub_target))\n",
        "print(dt.score(val_input,val_target))\n",
        "# 예상했던것과 동일하게 훈련세트에만 과대적합되어있는 경향이 있음"
      ],
      "metadata": {
        "colab": {
          "base_uri": "https://localhost:8080/"
        },
        "id": "6E8sGywp4UuZ",
        "outputId": "9e31494f-6fba-441a-d773-82dc111d7b39"
      },
      "execution_count": 16,
      "outputs": [
        {
          "output_type": "stream",
          "name": "stdout",
          "text": [
            "0.9971133028626413\n",
            "0.864423076923077\n"
          ]
        }
      ]
    },
    {
      "cell_type": "markdown",
      "source": [
        "교차검증: 검증 세트를 떼어 내어 평가하는 과정을 여러번 반복 , 그다음 이 점수를 평균하여 최종 검증 점수를 얻는 방법\n",
        "(교차 검증 함수 cross_validate())\n",
        "\n",
        "---\n",
        "\n",
        "*   3-폴드 교차 검증 이란?\n",
        ": 훈련세트를 3부분으로 나눠 교차검증을 수행하는것 ex) 훈련 셋 훈련 셋 검증 셋 ,훈련 셋 검증 셋 훈련 셋 , 검증 셋 훈련 셋 훈련 셋"
      ],
      "metadata": {
        "id": "YtG3cnvD71by"
      }
    },
    {
      "cell_type": "code",
      "source": [
        "# 교차 검증 함수 사용\n",
        "from sklearn.model_selection import cross_validate\n",
        "scores=cross_validate(dt,train_input,train_target)\n",
        "print(scores)\n",
        "# fit time , score time : 모델을 훈련하는 시간과 검증하는 시간\n",
        "# test score : 검증 폴드의 점수\n",
        "# corss_validate() 함수는 훈련세트를 섞어 폴드를 나누지 않음"
      ],
      "metadata": {
        "colab": {
          "base_uri": "https://localhost:8080/"
        },
        "id": "-VIArK0CD959",
        "outputId": "ec7c2888-83a1-4ed6-b9f8-48a171cc8ba9"
      },
      "execution_count": 30,
      "outputs": [
        {
          "output_type": "stream",
          "name": "stdout",
          "text": [
            "{'fit_time': array([0.01156163, 0.01003981, 0.0075233 , 0.00739312, 0.00800228]), 'score_time': array([0.0016849 , 0.00117397, 0.0009985 , 0.00096416, 0.00103545]), 'test_score': array([0.86923077, 0.84615385, 0.87680462, 0.84889317, 0.83541867])}\n"
          ]
        }
      ]
    },
    {
      "cell_type": "code",
      "source": [
        "import numpy as np\n",
        "print(np.mean(scores['test_score']))"
      ],
      "metadata": {
        "colab": {
          "base_uri": "https://localhost:8080/"
        },
        "id": "den06GsTD_oO",
        "outputId": "f350c14d-4100-4233-f8bb-9fa0859fef6e"
      },
      "execution_count": 31,
      "outputs": [
        {
          "output_type": "stream",
          "name": "stdout",
          "text": [
            "0.855300214703487\n"
          ]
        }
      ]
    },
    {
      "cell_type": "code",
      "source": [
        "# StratifiedKFold 모델 만들어보기\n",
        "from sklearn.model_selection import StratifiedKFold\n",
        "# 앞서 수행한 교차검증 코드\n",
        "scores=cross_validate(dt,train_input,train_target,cv=StratifiedKFold())\n",
        "print(np.mean(scores['test_score']))"
      ],
      "metadata": {
        "colab": {
          "base_uri": "https://localhost:8080/"
        },
        "id": "mHfr_o5CFqiH",
        "outputId": "85dabff9-2a67-46cc-dc3f-a45d854740b6"
      },
      "execution_count": 33,
      "outputs": [
        {
          "output_type": "stream",
          "name": "stdout",
          "text": [
            "0.855300214703487\n"
          ]
        }
      ]
    },
    {
      "cell_type": "code",
      "source": [
        "# 10-폴드 교차 검증 수행 모델\n",
        "# n_split 몇 폴드 교차 검증을 할지 정할수있음\n",
        "splitter=StratifiedKFold(n_splits=10,shuffle=True,random_state=42)\n",
        "scores=cross_validate(dt,train_input,train_target,cv=splitter)\n",
        "print(np.mean(scores['test_score']))"
      ],
      "metadata": {
        "colab": {
          "base_uri": "https://localhost:8080/"
        },
        "id": "3C2HBQ3CFvg8",
        "outputId": "6aac8840-0616-4045-cfb6-8d00b98b698c"
      },
      "execution_count": 35,
      "outputs": [
        {
          "output_type": "stream",
          "name": "stdout",
          "text": [
            "0.8574181117533719\n"
          ]
        }
      ]
    },
    {
      "cell_type": "code",
      "source": [
        "#하이퍼 파라미터 (사용자 지정 파라미터) 튜닝"
      ],
      "metadata": {
        "id": "IS74L53zFxox"
      },
      "execution_count": null,
      "outputs": []
    }
  ]
}